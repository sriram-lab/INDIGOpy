{
 "cells": [
  {
   "cell_type": "markdown",
   "metadata": {},
   "source": [
    "# How to use `indigopy`\n",
    "\n",
    "Example code for how to use the `indigopy` package. The sample data used in this example notebook is derived from the [INDIGO](https://doi.org/10.1007/978-1-4939-8891-4_13), [INDIGO-MTB](https://doi.org/10.1128/mbio.02627-19), and [MAGENTA](https://doi.org/10.1371/journal.pcbi.1006677) publications.  \n",
    "\n",
    "## Set up environment"
   ]
  },
  {
   "cell_type": "code",
   "execution_count": 1,
   "metadata": {},
   "outputs": [],
   "source": [
    "# Import dependencies\n",
    "import pandas as pd\n",
    "from scipy.stats import spearmanr\n",
    "from sklearn.metrics import r2_score, classification_report\n",
    "from sklearn.ensemble import RandomForestClassifier, RandomForestRegressor\n",
    "import seaborn as sns\n",
    "import matplotlib.pyplot as plt\n",
    "\n",
    "# Import package functions\n",
    "import sys\n",
    "sys.path.append('c:/Users/carol/github/INDIGOpy/') # modify if testing locally in different machine; remove once package is published\n",
    "from indigopy.core import load_sample, featurize, classify"
   ]
  },
  {
   "cell_type": "markdown",
   "metadata": {},
   "source": [
    "## Example: *E. coli*\n",
    "\n",
    "The following analysis and results were originally reported in the [INDIGO](https://doi.org/10.1007/978-1-4939-8891-4_13) paper.  \n",
    "- **Training dataset**: 105 two-way interactions between 15 antibiotics  \n",
    "- **Testing dataset**: 66 two-way interactions between the 15 antibiotics in the training set + 4 new antibiotics  "
   ]
  },
  {
   "cell_type": "code",
   "execution_count": 2,
   "metadata": {},
   "outputs": [
    {
     "name": "stderr",
     "output_type": "stream",
     "text": [
      "Defining INDIGO features: 100%|██████████| 105/105 [00:00<00:00, 406.95it/s]\n",
      "Defining INDIGO features: 100%|██████████| 66/66 [00:00<00:00, 464.53it/s]\n"
     ]
    },
    {
     "name": "stdout",
     "output_type": "stream",
     "text": [
      "Regression results:\n",
      "\tSpearman R = 0.6575\n",
      "\tSpearman p = 2e-09\n",
      "\tR2 = 0.3895\n",
      "Classification results:\n",
      "              precision    recall  f1-score   support\n",
      "\n",
      "           A       0.50      0.31      0.38        13\n",
      "           N       0.68      0.90      0.78        42\n",
      "           S       0.50      0.09      0.15        11\n",
      "\n",
      "    accuracy                           0.65        66\n",
      "   macro avg       0.56      0.43      0.44        66\n",
      "weighted avg       0.61      0.65      0.59        66\n",
      "\n"
     ]
    }
   ],
   "source": [
    "# Load sample data\n",
    "sample = load_sample('ecoli')\n",
    "\n",
    "# Define input arguments\n",
    "key             = sample['key']\n",
    "profiles        = sample['profiles']\n",
    "feature_names   = sample['feature_names']\n",
    "train_ixns      = sample['train']['interactions']\n",
    "train_scores    = sample['train']['scores']\n",
    "test_ixns       = sample['test']['interactions']\n",
    "test_scores     = sample['test']['scores']\n",
    "\n",
    "# Determine ML features\n",
    "train_data      = featurize(train_ixns, profiles, feature_names=feature_names, key=key, silent=True)\n",
    "test_data       = featurize(test_ixns, profiles, feature_names=feature_names, key=key, silent=True)\n",
    "X_train, X_test = train_data['feature_df'].to_numpy().transpose(), test_data['feature_df'].to_numpy().transpose()\n",
    "\n",
    "# Determine class labels\n",
    "thresh, classes = (-0.5, 2), ('S', 'N', 'A')\n",
    "train_labels    = classify(train_scores, thresholds=thresh, classes=classes)\n",
    "test_labels     = classify(test_scores, thresholds=thresh, classes=classes)\n",
    "\n",
    "# Train and apply a regression-based model\n",
    "reg_model = RandomForestRegressor()\n",
    "reg_model.fit(X_train, train_scores)\n",
    "reg_y = reg_model.predict(X_test)\n",
    "r, p = spearmanr(test_scores, reg_y)\n",
    "r2 = r2_score(test_scores, reg_y)\n",
    "print('Regression results:')\n",
    "print('\\tSpearman R = {}'.format(round(r, 4)))\n",
    "print('\\tSpearman p = {:.3g}'.format(p))\n",
    "print('\\tR2 = {}'.format(round(r2, 4)))\n",
    "\n",
    "# Train and apply a classification-based model\n",
    "class_model = RandomForestClassifier()\n",
    "class_model.fit(X_train, train_labels)\n",
    "class_y = class_model.predict(X_test)\n",
    "print('Classification results:')\n",
    "print(classification_report(test_labels, class_y))"
   ]
  },
  {
   "cell_type": "markdown",
   "metadata": {},
   "source": [
    "## Example: *M. tuberculosis*\n",
    "\n",
    "The following analysis and results were originally reported in the [INDIGO-MTB](https://doi.org/10.1128/mbio.02627-19) paper.  \n",
    "- **Training dataset**: 196 two- to five-way interactions between 40 antibacterials  \n",
    "- **Testing dataset**: 36 two- to three-way interactions between the 13 antibacterials  \n",
    "- **Clinical dataset**: clinical outcomes for 57 two- to five-way interactions between 7 antibacterials  "
   ]
  },
  {
   "cell_type": "code",
   "execution_count": 3,
   "metadata": {},
   "outputs": [
    {
     "name": "stderr",
     "output_type": "stream",
     "text": [
      "Defining INDIGO features: 100%|██████████| 196/196 [00:00<00:00, 512.41it/s]\n",
      "Defining INDIGO features: 100%|██████████| 36/36 [00:00<00:00, 538.73it/s]\n",
      "Defining INDIGO features: 100%|██████████| 57/57 [00:00<00:00, 552.91it/s]\n"
     ]
    },
    {
     "name": "stdout",
     "output_type": "stream",
     "text": [
      "Regression results:\n",
      "\tSpearman R = 0.5348\n",
      "\tSpearman p = 0.000779\n",
      "\tR2 = 0.122\n",
      "Classification results:\n",
      "              precision    recall  f1-score   support\n",
      "\n",
      "           A       0.62      0.31      0.42        16\n",
      "           N       0.00      0.00      0.00         1\n",
      "           S       0.73      0.84      0.78        19\n",
      "\n",
      "    accuracy                           0.58        36\n",
      "   macro avg       0.45      0.38      0.40        36\n",
      "weighted avg       0.66      0.58      0.60        36\n",
      "\n",
      "Clinical results:\n",
      "\tSpearman R = 0.5035\n",
      "\tSpearman p = 6.55e-05\n"
     ]
    }
   ],
   "source": [
    "# Load sample data\n",
    "sample = load_sample('mtb')\n",
    "\n",
    "# Define input arguments\n",
    "key             = sample['key']\n",
    "profiles        = sample['profiles']\n",
    "feature_names   = sample['feature_names']\n",
    "train_ixns      = sample['train']['interactions']\n",
    "train_scores    = sample['train']['scores']\n",
    "test_ixns       = sample['test']['interactions']\n",
    "test_scores     = sample['test']['scores']\n",
    "clinical_ixns   = sample['clinical']['interactions']\n",
    "clinical_scores = sample['clinical']['scores']\n",
    "\n",
    "# Determine ML features\n",
    "train_data      = featurize(train_ixns, profiles, feature_names=feature_names, key=key, silent=True)\n",
    "test_data       = featurize(test_ixns, profiles, feature_names=feature_names, key=key, silent=True)\n",
    "clinical_data   = featurize(clinical_ixns, profiles, feature_names=feature_names, key=key, silent=True)\n",
    "X_train, X_test = train_data['feature_df'].to_numpy().transpose(), test_data['feature_df'].to_numpy().transpose()\n",
    "X_clinical      = clinical_data['feature_df'].to_numpy().transpose()\n",
    "\n",
    "# Determine class labels\n",
    "thresh, classes = (0.9, 1.1), ('S', 'N', 'A')\n",
    "train_labels    = classify(train_scores, thresholds=thresh, classes=classes)\n",
    "test_labels     = classify(test_scores, thresholds=thresh, classes=classes)\n",
    "\n",
    "# Train and apply a regression-based model\n",
    "reg_model = RandomForestRegressor()\n",
    "reg_model.fit(X_train, train_scores)\n",
    "reg_y = reg_model.predict(X_test)\n",
    "r, p = spearmanr(test_scores, reg_y)\n",
    "r2 = r2_score(test_scores, reg_y)\n",
    "print('Regression results:')\n",
    "print('\\tSpearman R = {}'.format(round(r, 4)))\n",
    "print('\\tSpearman p = {:.3g}'.format(p))\n",
    "print('\\tR2 = {}'.format(round(r2, 4)))\n",
    "\n",
    "# Train and apply a classification-based model\n",
    "class_model = RandomForestClassifier()\n",
    "class_model.fit(X_train, train_labels)\n",
    "class_y = class_model.predict(X_test)\n",
    "print('Classification results:')\n",
    "print(classification_report(test_labels, class_y))\n",
    "\n",
    "# Apply model to clinical data\n",
    "clinical_y = reg_model.predict(X_clinical)\n",
    "r, p = spearmanr(clinical_scores, clinical_y)\n",
    "print('Clinical results:')\n",
    "print('\\tSpearman R = {}'.format(round(-r, 4)))\n",
    "print('\\tSpearman p = {:.3g}'.format(p))"
   ]
  },
  {
   "cell_type": "markdown",
   "metadata": {},
   "source": [
    "## Example: *S. aureus*\n",
    "\n",
    "The following analysis and results were originally reported in the [INDIGO](https://doi.org/10.1007/978-1-4939-8891-4_13) paper.  \n",
    "- **Training dataset**: 171 two-way interactions between 19 antibiotics measured in *E. coli*  \n",
    "- **Testing dataset**: 45 two-way interactions between the 10 antibiotics measured in *S. aureus*  "
   ]
  },
  {
   "cell_type": "code",
   "execution_count": 4,
   "metadata": {},
   "outputs": [
    {
     "name": "stderr",
     "output_type": "stream",
     "text": [
      "Defining INDIGO features: 100%|██████████| 171/171 [00:00<00:00, 508.65it/s]\n",
      "Defining INDIGO features: 100%|██████████| 45/45 [00:00<00:00, 569.02it/s]\n",
      "Mapping orthologous genes: 100%|██████████| 1/1 [00:01<00:00,  1.99s/it]\n"
     ]
    },
    {
     "name": "stdout",
     "output_type": "stream",
     "text": [
      "Regression results:\n",
      "\tSpearman R = 0.5428\n",
      "\tSpearman p = 0.000117\n",
      "\tR2 = -1.257\n",
      "Classification results:\n",
      "              precision    recall  f1-score   support\n",
      "\n",
      "           A       0.00      0.00      0.00         2\n",
      "           N       0.49      1.00      0.66        22\n",
      "           S       0.00      0.00      0.00        21\n",
      "\n",
      "    accuracy                           0.49        45\n",
      "   macro avg       0.16      0.33      0.22        45\n",
      "weighted avg       0.24      0.49      0.32        45\n",
      "\n"
     ]
    },
    {
     "name": "stderr",
     "output_type": "stream",
     "text": [
      "c:\\Users\\carol\\AppData\\Local\\Programs\\PythonCodingPack\\lib\\site-packages\\sklearn\\metrics\\_classification.py:1221: UndefinedMetricWarning: Precision and F-score are ill-defined and being set to 0.0 in labels with no predicted samples. Use `zero_division` parameter to control this behavior.\n",
      "  _warn_prf(average, modifier, msg_start, len(result))\n"
     ]
    }
   ],
   "source": [
    "# Load sample data\n",
    "sample = load_sample('saureus')\n",
    "\n",
    "# Define input arguments\n",
    "key             = sample['key']\n",
    "profiles        = sample['profiles']\n",
    "feature_names   = sample['feature_names']\n",
    "train_ixns      = sample['train']['interactions']\n",
    "train_scores    = sample['train']['scores']\n",
    "test_ixns       = sample['test']['interactions']\n",
    "test_scores     = sample['test']['scores']\n",
    "strains         = sample['orthology']['strains']\n",
    "orthology_map   = sample['orthology']['map']\n",
    "\n",
    "# Determine ML features\n",
    "train_data      = featurize(train_ixns, profiles, feature_names=feature_names, key=key, silent=True)\n",
    "test_data       = featurize(test_ixns, profiles, feature_names=feature_names, key=key, silent=True, \n",
    "                            strains=strains, orthology_map=orthology_map)\n",
    "X_train, X_test = train_data['feature_df'].to_numpy().transpose(), test_data['feature_df'].to_numpy().transpose()\n",
    "\n",
    "# Determine class labels\n",
    "thresh, classes = (-0.5, 2), ('S', 'N', 'A')\n",
    "train_labels    = classify(train_scores, thresholds=thresh, classes=classes)\n",
    "test_labels     = classify(test_scores, thresholds=thresh, classes=classes)\n",
    "\n",
    "# Train and apply a regression-based model\n",
    "reg_model = RandomForestRegressor()\n",
    "reg_model.fit(X_train, train_scores)\n",
    "reg_y = reg_model.predict(X_test)\n",
    "r, p = spearmanr(test_scores, reg_y)\n",
    "r2 = r2_score(test_scores, reg_y)\n",
    "print('Regression results:')\n",
    "print('\\tSpearman R = {}'.format(round(r, 4)))\n",
    "print('\\tSpearman p = {:.3g}'.format(p))\n",
    "print('\\tR2 = {}'.format(round(r2, 4)))\n",
    "\n",
    "# Train and apply a classification-based model\n",
    "class_model = RandomForestClassifier()\n",
    "class_model.fit(X_train, train_labels)\n",
    "class_y = class_model.predict(X_test)\n",
    "print('Classification results:')\n",
    "print(classification_report(test_labels, class_y))"
   ]
  },
  {
   "cell_type": "markdown",
   "metadata": {},
   "source": [
    "## Example: *A. baumannii*\n",
    "\n",
    "The following analysis and results were originally reported in the [MAGENTA](https://doi.org/10.1371/journal.pcbi.1006677) paper.  \n",
    "- **Training dataset**: 338 two- to three-way interactions between 24 antibiotics measured in *E. coli* cultured in various media conditions  \n",
    "- **Testing dataset**: 45 two-way interactions between the 8 antibiotics measured in *A. baumannii*  "
   ]
  },
  {
   "cell_type": "code",
   "execution_count": 5,
   "metadata": {},
   "outputs": [
    {
     "name": "stderr",
     "output_type": "stream",
     "text": [
      "Defining INDIGO features: 100%|██████████| 338/338 [00:00<00:00, 497.36it/s]\n",
      "Defining INDIGO features: 100%|██████████| 45/45 [00:00<00:00, 589.56it/s]\n",
      "Mapping orthologous genes: 100%|██████████| 1/1 [00:02<00:00,  2.58s/it]\n"
     ]
    },
    {
     "name": "stdout",
     "output_type": "stream",
     "text": [
      "Regression results:\n",
      "\tSpearman R = 0.614\n",
      "\tSpearman p = 7.28e-06\n",
      "\tR2 = -0.3302\n",
      "Classification results:\n",
      "              precision    recall  f1-score   support\n",
      "\n",
      "           A       0.43      0.94      0.59        17\n",
      "           N       0.00      0.00      0.00        11\n",
      "           S       0.86      0.35      0.50        17\n",
      "\n",
      "    accuracy                           0.49        45\n",
      "   macro avg       0.43      0.43      0.36        45\n",
      "weighted avg       0.49      0.49      0.41        45\n",
      "\n"
     ]
    },
    {
     "data": {
      "image/png": "[encoded data removed]",
      "text/plain": [
       "<Figure size 216x288 with 1 Axes>"
      ]
     },
     "metadata": {},
     "output_type": "display_data"
    }
   ],
   "source": [
    "# Load sample data\n",
    "sample = load_sample('abaumannii')\n",
    "\n",
    "# Define input arguments\n",
    "key             = sample['key']\n",
    "profiles        = sample['profiles']\n",
    "feature_names   = sample['feature_names']\n",
    "train_ixns      = sample['train']['interactions']\n",
    "train_scores    = sample['train']['scores']\n",
    "test_ixns       = sample['test']['interactions']\n",
    "test_scores     = sample['test']['scores']\n",
    "strains         = sample['orthology']['strains']\n",
    "orthology_map   = sample['orthology']['map']\n",
    "\n",
    "# Determine ML features\n",
    "train_data      = featurize(train_ixns, profiles, feature_names=feature_names, key=key, silent=True)\n",
    "test_data       = featurize(test_ixns, profiles, feature_names=feature_names, key=key, silent=True, \n",
    "                            strains=strains, orthology_map=orthology_map)\n",
    "X_train, X_test = train_data['feature_df'].to_numpy().transpose(), test_data['feature_df'].to_numpy().transpose()\n",
    "\n",
    "# Determine class labels\n",
    "thresh, classes = (-0.5, 0), ('S', 'N', 'A')\n",
    "train_labels    = classify(train_scores, thresholds=thresh, classes=classes)\n",
    "test_labels     = classify(test_scores, thresholds=thresh, classes=classes)\n",
    "\n",
    "# Train and apply a regression-based model\n",
    "reg_model = RandomForestRegressor()\n",
    "reg_model.fit(X_train, train_scores)\n",
    "reg_y = reg_model.predict(X_test)\n",
    "r, p = spearmanr(test_scores, reg_y)\n",
    "r2 = r2_score(test_scores, reg_y)\n",
    "print('Regression results:')\n",
    "print('\\tSpearman R = {}'.format(round(r, 4)))\n",
    "print('\\tSpearman p = {:.3g}'.format(p))\n",
    "print('\\tR2 = {}'.format(round(r2, 4)))\n",
    "\n",
    "# Train and apply a classification-based model\n",
    "class_model = RandomForestClassifier()\n",
    "class_model.fit(X_train, train_labels)\n",
    "class_y = class_model.predict(X_test)\n",
    "print('Classification results:')\n",
    "print(classification_report(test_labels, class_y))\n",
    "\n",
    "# Visualize results\n",
    "df = pd.DataFrame({'x': test_labels, 'y': reg_y})\n",
    "df.replace({'A': 'Antagonism', 'N': 'Neutral', 'S': 'Synergy'}, inplace=True)\n",
    "sns.set(rc={'figure.figsize':(3, 4)})\n",
    "ax = sns.boxplot(x='x', y='y', data=df, order=['Antagonism', 'Neutral', 'Synergy'], )\n",
    "ax.set(title='A. baumannii', xlabel='True class', ylabel='Predicted score')\n",
    "plt.show()"
   ]
  }
 ],
 "metadata": {
  "kernelspec": {
   "display_name": "Python 3.8.5 64-bit",
   "language": "python",
   "name": "python3"
  },
  "language_info": {
   "codemirror_mode": {
    "name": "ipython",
    "version": 3
   },
   "file_extension": ".py",
   "mimetype": "text/x-python",
   "name": "python",
   "nbconvert_exporter": "python",
   "pygments_lexer": "ipython3",
   "version": "3.8.5"
  },
  "vscode": {
   "interpreter": {
    "hash": "0ac2a46207b2ff734e5406bb8bd0909b0a981f84a860af7db5bce33c6bd25d0b"
   }
  }
 },
 "nbformat": 4,
 "nbformat_minor": 2
}
