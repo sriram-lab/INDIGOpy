{
 "cells": [
  {
   "cell_type": "markdown",
   "metadata": {},
   "source": [
    "# How to use `indigopy`\n",
    "Example code for how to use the `indigopy` package.\n",
    "\n",
    "## Set up environment"
   ]
  },
  {
   "cell_type": "code",
   "execution_count": 7,
   "metadata": {},
   "outputs": [],
   "source": [
    "# Import dependencies\n",
    "import pandas as pd\n",
    "from scipy.stats import spearmanr\n",
    "from sklearn.metrics import r2_score, classification_report\n",
    "from sklearn.ensemble import RandomForestClassifier, RandomForestRegressor\n",
    "\n",
    "# Import package functions\n",
    "import sys\n",
    "sys.path.append('c:/Users/carol/github/INDIGOpy/')\n",
    "from indigopy.core import load_sample, featurize, classify"
   ]
  },
  {
   "cell_type": "markdown",
   "metadata": {},
   "source": [
    "## Example: *E. coli*"
   ]
  },
  {
   "cell_type": "code",
   "execution_count": 8,
   "metadata": {},
   "outputs": [
    {
     "name": "stdout",
     "output_type": "stream",
     "text": [
      "Regression results:\n",
      "\tSpearman R = 0.6421\n",
      "\tSpearman p = 6.22e-09\n",
      "\tR2 = 0.3976\n",
      "Classification results:\n",
      "              precision    recall  f1-score   support\n",
      "\n",
      "           A       0.44      0.31      0.36        13\n",
      "           N       0.67      0.90      0.77        42\n",
      "           S       0.00      0.00      0.00        11\n",
      "\n",
      "    accuracy                           0.64        66\n",
      "   macro avg       0.37      0.40      0.38        66\n",
      "weighted avg       0.51      0.64      0.56        66\n",
      "\n"
     ]
    },
    {
     "name": "stderr",
     "output_type": "stream",
     "text": [
      "c:\\Users\\carol\\AppData\\Local\\Programs\\PythonCodingPack\\lib\\site-packages\\sklearn\\metrics\\_classification.py:1221: UndefinedMetricWarning: Precision and F-score are ill-defined and being set to 0.0 in labels with no predicted samples. Use `zero_division` parameter to control this behavior.\n",
      "  _warn_prf(average, modifier, msg_start, len(result))\n"
     ]
    }
   ],
   "source": [
    "# Load sample data\n",
    "sample = load_sample('ecoli')\n",
    "\n",
    "# Define input arguments\n",
    "key             = sample['key']\n",
    "profiles        = sample['profiles']\n",
    "feature_names   = sample['feature_names']\n",
    "train_ixns      = sample['train']['interactions']\n",
    "train_scores    = sample['train']['scores']\n",
    "test_ixns       = sample['test']['interactions']\n",
    "test_scores     = sample['test']['scores']\n",
    "\n",
    "# Determine ML features\n",
    "train_data      = featurize(train_ixns, profiles, feature_names=feature_names, key=key, silent=True)\n",
    "test_data       = featurize(test_ixns, profiles, feature_names=feature_names, key=key, silent=True)\n",
    "X_train, X_test = train_data['feature_df'].to_numpy().transpose(), test_data['feature_df'].to_numpy().transpose()\n",
    "\n",
    "# Determine class labels\n",
    "thresh, classes = (-0.5, 2), ('S', 'N', 'A')\n",
    "train_labels    = classify(train_scores, thresholds=thresh, classes=classes)\n",
    "test_labels     = classify(test_scores, thresholds=thresh, classes=classes)\n",
    "\n",
    "# Train and apply a regression-based model\n",
    "reg_model = RandomForestRegressor()\n",
    "reg_model.fit(X_train, train_scores)\n",
    "reg_y = reg_model.predict(X_test)\n",
    "r, p = spearmanr(test_scores, reg_y)\n",
    "r2 = r2_score(test_scores, reg_y)\n",
    "print('Regression results:')\n",
    "print('\\tSpearman R = {}'.format(round(r, 4)))\n",
    "print('\\tSpearman p = {:.3g}'.format(p))\n",
    "print('\\tR2 = {}'.format(round(r2, 4)))\n",
    "\n",
    "# Train and apply a classification-based model\n",
    "class_model = RandomForestClassifier()\n",
    "class_model.fit(X_train, train_labels)\n",
    "class_y = class_model.predict(X_test)\n",
    "print('Classification results:')\n",
    "print(classification_report(test_labels, class_y))"
   ]
  },
  {
   "cell_type": "markdown",
   "metadata": {},
   "source": [
    "## Example: *M. tuberculosis*"
   ]
  },
  {
   "cell_type": "code",
   "execution_count": 9,
   "metadata": {},
   "outputs": [
    {
     "name": "stdout",
     "output_type": "stream",
     "text": [
      "Regression results:\n",
      "\tSpearman R = 0.5306\n",
      "\tSpearman p = 0.000871\n",
      "\tR2 = 0.1236\n",
      "Classification results:\n",
      "              precision    recall  f1-score   support\n",
      "\n",
      "           A       0.50      0.25      0.33        16\n",
      "           N       0.00      0.00      0.00         1\n",
      "           S       0.64      0.74      0.68        19\n",
      "\n",
      "    accuracy                           0.50        36\n",
      "   macro avg       0.38      0.33      0.34        36\n",
      "weighted avg       0.56      0.50      0.51        36\n",
      "\n",
      "Clinical results:\n",
      "\tSpearman R = 0.4481\n",
      "\tSpearman p = 0.000473\n"
     ]
    }
   ],
   "source": [
    "# Load sample data\n",
    "sample = load_sample('mtb')\n",
    "\n",
    "# Define input arguments\n",
    "key             = sample['key']\n",
    "profiles        = sample['profiles']\n",
    "feature_names   = sample['feature_names']\n",
    "train_ixns      = sample['train']['interactions']\n",
    "train_scores    = sample['train']['scores']\n",
    "test_ixns       = sample['test']['interactions']\n",
    "test_scores     = sample['test']['scores']\n",
    "clinical_ixns   = sample['clinical']['interactions']\n",
    "clinical_scores = sample['clinical']['scores']\n",
    "\n",
    "# Determine ML features\n",
    "train_data      = featurize(train_ixns, profiles, feature_names=feature_names, key=key, silent=True)\n",
    "test_data       = featurize(test_ixns, profiles, feature_names=feature_names, key=key, silent=True)\n",
    "clinical_data   = featurize(clinical_ixns, profiles, feature_names=feature_names, key=key, silent=True)\n",
    "X_train, X_test = train_data['feature_df'].to_numpy().transpose(), test_data['feature_df'].to_numpy().transpose()\n",
    "X_clinical      = clinical_data['feature_df'].to_numpy().transpose()\n",
    "\n",
    "# Determine class labels\n",
    "thresh, classes = (0.9, 1.1), ('S', 'N', 'A')\n",
    "train_labels    = classify(train_scores, thresholds=thresh, classes=classes)\n",
    "test_labels     = classify(test_scores, thresholds=thresh, classes=classes)\n",
    "\n",
    "# Train and apply a regression-based model\n",
    "reg_model = RandomForestRegressor()\n",
    "reg_model.fit(X_train, train_scores)\n",
    "reg_y = reg_model.predict(X_test)\n",
    "r, p = spearmanr(test_scores, reg_y)\n",
    "r2 = r2_score(test_scores, reg_y)\n",
    "print('Regression results:')\n",
    "print('\\tSpearman R = {}'.format(round(r, 4)))\n",
    "print('\\tSpearman p = {:.3g}'.format(p))\n",
    "print('\\tR2 = {}'.format(round(r2, 4)))\n",
    "\n",
    "# Train and apply a classification-based model\n",
    "class_model = RandomForestClassifier()\n",
    "class_model.fit(X_train, train_labels)\n",
    "class_y = class_model.predict(X_test)\n",
    "print('Classification results:')\n",
    "print(classification_report(test_labels, class_y))\n",
    "\n",
    "# Apply model to clinical data\n",
    "clinical_y = reg_model.predict(X_clinical)\n",
    "r, p = spearmanr(clinical_scores, clinical_y)\n",
    "print('Clinical results:')\n",
    "print('\\tSpearman R = {}'.format(round(-r, 4)))\n",
    "print('\\tSpearman p = {:.3g}'.format(p))"
   ]
  }
 ],
 "metadata": {
  "interpreter": {
   "hash": "0ac2a46207b2ff734e5406bb8bd0909b0a981f84a860af7db5bce33c6bd25d0b"
  },
  "kernelspec": {
   "display_name": "Python 3.8.5 64-bit",
   "language": "python",
   "name": "python3"
  },
  "language_info": {
   "codemirror_mode": {
    "name": "ipython",
    "version": 3
   },
   "file_extension": ".py",
   "mimetype": "text/x-python",
   "name": "python",
   "nbconvert_exporter": "python",
   "pygments_lexer": "ipython3",
   "version": "3.8.5"
  },
  "orig_nbformat": 4
 },
 "nbformat": 4,
 "nbformat_minor": 2
}
