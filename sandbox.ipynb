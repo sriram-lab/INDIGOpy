{
 "cells": [
  {
   "cell_type": "markdown",
   "metadata": {},
   "source": [
    "# Sandbox for package testing\n",
    "\n",
    "## Import packages"
   ]
  },
  {
   "cell_type": "code",
   "execution_count": 1,
   "metadata": {},
   "outputs": [],
   "source": [
    "import numpy as np\n",
    "import pandas as pd\n",
    "from warnings import warn, catch_warnings\n",
    "from itertools import compress\n",
    "from tabulate import tabulate\n",
    "from math import isnan\n",
    "\n",
    "from indigopy.core import load_sample, featurize, classify"
   ]
  },
  {
   "cell_type": "markdown",
   "metadata": {},
   "source": [
    "## Test functions\n",
    "\n",
    "### load_sample()"
   ]
  },
  {
   "cell_type": "code",
   "execution_count": 2,
   "metadata": {},
   "outputs": [
    {
     "name": "stdout",
     "output_type": "stream",
     "text": [
      "['AMK', 'CEF']\n"
     ]
    }
   ],
   "source": [
    "# Test function\n",
    "sample = load_sample('ecoli')\n",
    "print(sample['train']['interactions'][0])"
   ]
  },
  {
   "cell_type": "markdown",
   "metadata": {},
   "source": [
    "### featurize()"
   ]
  },
  {
   "cell_type": "code",
   "execution_count": 5,
   "metadata": {},
   "outputs": [
    {
     "name": "stdout",
     "output_type": "stream",
     "text": [
      "                 A + B  A + C  B + C  A + B + C\n",
      "sigma-pos-feat3    0.0    1.0    1.0   0.666667\n",
      "delta-pos-feat3    0.0    1.0    1.0   1.000000\n",
      "+-----------------+---+---+---+----------+\n",
      "| sigma-pos-feat3 | 0 | 1 | 1 | 0.666667 |\n",
      "+-----------------+---+---+---+----------+\n",
      "| delta-pos-feat3 | 0 | 1 | 1 | 1        |\n",
      "+-----------------+---+---+---+----------+\n"
     ]
    }
   ],
   "source": [
    "# Define inputs\n",
    "interactions = [['A', 'B'], ['A', 'C'], ['B', 'C'], ['A', 'B', 'C']]\n",
    "profiles = {'A': [1, float('nan'), 1], 'B': [-2, 1.5, -0.5], 'C': [1, 2, 3]}\n",
    "feature_names = ['G1', 'G2', 'G3']\n",
    "profiles_alt = {'Drug_A': [1, float('nan'), 1], 'Drug_B': [-2, 1.5, -0.5], 'Drug_C': [1, 2, 3]}\n",
    "key = {'Drug_A': 'A', 'Drug_B': 'B', 'Drug_C': 'C'}\n",
    "normalize, norm_method, na_handle = True, 'minmax', 1\n",
    "binarize, thresholds, remove_zero_rows = False, (-1, 1), True\n",
    "entropy, time, time_values = True, True, [[0, 0], [1, 1], [1, 2], [1, 2, 3]]\n",
    "\n",
    "# Use function\n",
    "out = featurize(interactions, profiles, remove_zero_rows=remove_zero_rows)\n",
    "print(out['feature_df'])\n",
    "result = tabulate(out['feature_df'], tablefmt='grid')\n",
    "print(result)"
   ]
  },
  {
   "cell_type": "markdown",
   "metadata": {},
   "source": [
    "### classify()"
   ]
  },
  {
   "cell_type": "code",
   "execution_count": 5,
   "metadata": {},
   "outputs": [
    {
     "data": {
      "text/plain": [
       "True"
      ]
     },
     "execution_count": 5,
     "metadata": {},
     "output_type": "execute_result"
    }
   ],
   "source": [
    "# Define inputs\n",
    "scores = [-2, 1.5, 0.5, -0.1, 1]\n",
    "thresholds = (-1, 1)\n",
    "classes = ('S', 'N', 'A')\n",
    "\n",
    "# Use function\n",
    "classify(scores, classes=classes) == ['S', 'A', 'A', 'S', 'A']"
   ]
  }
 ],
 "metadata": {
  "interpreter": {
   "hash": "0ac2a46207b2ff734e5406bb8bd0909b0a981f84a860af7db5bce33c6bd25d0b"
  },
  "kernelspec": {
   "display_name": "Python 3.8.5 64-bit",
   "language": "python",
   "name": "python3"
  },
  "language_info": {
   "codemirror_mode": {
    "name": "ipython",
    "version": 3
   },
   "file_extension": ".py",
   "mimetype": "text/x-python",
   "name": "python",
   "nbconvert_exporter": "python",
   "pygments_lexer": "ipython3",
   "version": "3.8.5"
  },
  "orig_nbformat": 4
 },
 "nbformat": 4,
 "nbformat_minor": 2
}
