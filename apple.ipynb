{
  "nbformat": 4,
  "nbformat_minor": 0,
  "metadata": {
    "colab": {
      "name": "apple",
      "provenance": [],
      "collapsed_sections": [],
      "authorship_tag": "ABX9TyMF7bY7Ecemzoi20PcohcKK",
      "include_colab_link": true
    },
    "kernelspec": {
      "name": "python3",
      "display_name": "Python 3"
    },
    "language_info": {
      "name": "python"
    }
  },
  "cells": [
    {
      "cell_type": "markdown",
      "metadata": {
        "id": "view-in-github",
        "colab_type": "text"
      },
      "source": [
        "<a href=\"https://colab.research.google.com/github/sriram-lab/INDIGOpy/blob/main/apple.ipynb\" target=\"_parent\"><img src=\"https://colab.research.google.com/assets/colab-badge.svg\" alt=\"Open In Colab\"/></a>"
      ]
    },
    {
      "cell_type": "code",
      "execution_count": null,
      "metadata": {
        "colab": {
          "base_uri": "https://localhost:8080/"
        },
        "id": "bOA64hnNGpk8",
        "outputId": "3ac66dea-e9fd-4325-89b1-cb9ccd05ea9e"
      },
      "outputs": [
        {
          "output_type": "stream",
          "name": "stdout",
          "text": [
            "can you see this if you push, not copy?\n"
          ]
        }
      ],
      "source": [
        "print('can you see this if you push, not copy?')"
      ]
    },
    {
      "cell_type": "code",
      "source": [
        ""
      ],
      "metadata": {
        "id": "2papPo2lG3zL"
      },
      "execution_count": null,
      "outputs": []
    }
  ]
}