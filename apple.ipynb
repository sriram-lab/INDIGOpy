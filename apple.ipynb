{
 "cells": [
  {
   "cell_type": "markdown",
   "metadata": {
    "id": "view-in-github"
   },
   "source": [
    "<a href=\"https://colab.research.google.com/github/sriram-lab/INDIGOpy/blob/main/apple.ipynb\" target=\"_parent\"><img src=\"https://colab.research.google.com/assets/colab-badge.svg\" alt=\"Open In Colab\"/></a>"
   ]
  },
  {
   "cell_type": "code",
   "execution_count": null,
   "metadata": {
    "colab": {
     "base_uri": "https://localhost:8080/"
    },
    "id": "bOA64hnNGpk8",
    "outputId": "3ac66dea-e9fd-4325-89b1-cb9ccd05ea9e"
   },
   "outputs": [
    {
     "name": "stdout",
     "output_type": "stream",
     "text": [
      "can you see this if you push, not copy?\n"
     ]
    }
   ],
   "source": [
    "print('can you see this if you push, not copy?')"
   ]
  },
  {
   "cell_type": "code",
   "execution_count": null,
   "metadata": {
    "colab": {
     "base_uri": "https://localhost:8080/"
    },
    "executionInfo": {
     "elapsed": 5,
     "status": "ok",
     "timestamp": 1647275049417,
     "user": {
      "displayName": "David Chang",
      "photoUrl": "https://lh3.googleusercontent.com/a-/AOh14GgAeviSFqqTUnMPivbm2DU0Rk1CNgSbVOJOHHeRbg=s64",
      "userId": "12037735415040408264"
     },
     "user_tz": 240
    },
    "id": "2papPo2lG3zL",
    "outputId": "ae1cd7cd-a664-4955-fb59-419f184f2120"
   },
   "outputs": [
    {
     "name": "stdout",
     "output_type": "stream",
     "text": [
      "what happens now\n"
     ]
    }
   ],
   "source": [
    "print('what happens now')"
   ]
  },
  {
   "cell_type": "code",
   "execution_count": null,
   "metadata": {
    "colab": {
     "base_uri": "https://localhost:8080/"
    },
    "executionInfo": {
     "elapsed": 4,
     "status": "ok",
     "timestamp": 1647275298301,
     "user": {
      "displayName": "David Chang",
      "photoUrl": "https://lh3.googleusercontent.com/a-/AOh14GgAeviSFqqTUnMPivbm2DU0Rk1CNgSbVOJOHHeRbg=s64",
      "userId": "12037735415040408264"
     },
     "user_tz": 240
    },
    "id": "3-1rQpnjPm48",
    "outputId": "c586a691-4d3f-4ffe-c241-50bf1bfb8664"
   },
   "outputs": [
    {
     "name": "stdout",
     "output_type": "stream",
     "text": [
      "try again\n"
     ]
    }
   ],
   "source": [
    "print('try again')"
   ]
  },
  {
   "cell_type": "code",
   "execution_count": null,
   "metadata": {
    "id": "D9q_J8p7Qkuy",
    "outputId": "67f902a7-195f-43b3-d2e8-d2edb0d77b65"
   },
   "outputs": [
    {
     "name": "stdout",
     "output_type": "stream",
     "text": [
      "i can edit this from jupyter too\n"
     ]
    }
   ],
   "source": [
    "print('i can edit this from jupyter too')"
   ]
  },
  {
   "cell_type": "code",
   "execution_count": 1,
   "metadata": {
    "id": "E9M08Z69R7De"
   },
   "outputs": [
    {
     "name": "stdout",
     "output_type": "stream",
     "text": [
      "Edits dont sync right away from jupyter\n"
     ]
    }
   ],
   "source": [
    "print('Edits dont sync right away from jupyter')"
   ]
  },
  {
   "cell_type": "code",
   "execution_count": 2,
   "metadata": {},
   "outputs": [
    {
     "name": "stdout",
     "output_type": "stream",
     "text": [
      "but they sync once you close the document and come back\n"
     ]
    }
   ],
   "source": [
    "print('but they sync once you close the document and come back')"
   ]
  },
  {
   "cell_type": "code",
   "execution_count": null,
   "metadata": {},
   "outputs": [],
   "source": []
  }
 ],
 "metadata": {
  "colab": {
   "collapsed_sections": [],
   "name": "apple.ipynb",
   "provenance": []
  },
  "kernelspec": {
   "display_name": "Python 3 (ipykernel)",
   "language": "python",
   "name": "python3"
  },
  "language_info": {
   "codemirror_mode": {
    "name": "ipython",
    "version": 3
   },
   "file_extension": ".py",
   "mimetype": "text/x-python",
   "name": "python",
   "nbconvert_exporter": "python",
   "pygments_lexer": "ipython3",
   "version": "3.9.7"
  }
 },
 "nbformat": 4,
 "nbformat_minor": 4
}
