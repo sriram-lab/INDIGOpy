{
  "nbformat": 4,
  "nbformat_minor": 0,
  "metadata": {
    "colab": {
      "name": "Example_Notebook.ipynb",
      "provenance": [],
      "include_colab_link": true
    },
    "kernelspec": {
      "name": "python3",
      "display_name": "Python 3"
    },
    "language_info": {
      "name": "python"
    }
  },
  "cells": [
    {
      "cell_type": "markdown",
      "metadata": {
        "id": "view-in-github",
        "colab_type": "text"
      },
      "source": [
        "<a href=\"https://colab.research.google.com/github/sriram-lab/INDIGOpy/blob/main/Example_Notebook.ipynb\" target=\"_parent\"><img src=\"https://colab.research.google.com/assets/colab-badge.svg\" alt=\"Open In Colab\"/></a>"
      ]
    },
    {
      "cell_type": "markdown",
      "source": [
        "Hello World"
      ],
      "metadata": {
        "id": "n1WY4NV64HVR"
      }
    },
    {
      "cell_type": "code",
      "execution_count": null,
      "metadata": {
        "id": "J4lUy2cY3kgc"
      },
      "outputs": [],
      "source": [
        "import numpy as np"
      ]
    },
    {
      "cell_type": "code",
      "source": [
        "np.array([1,2,3])"
      ],
      "metadata": {
        "colab": {
          "base_uri": "https://localhost:8080/"
        },
        "id": "XVaQOnnp4B3_",
        "outputId": "2c107d14-02d8-4ae0-85f4-661e9b9e9efe"
      },
      "execution_count": null,
      "outputs": [
        {
          "output_type": "execute_result",
          "data": {
            "text/plain": [
              "array([1, 2, 3])"
            ]
          },
          "metadata": {},
          "execution_count": 2
        }
      ]
    },
    {
      "cell_type": "code",
      "source": [
        "from google.colab import drive\n",
        "drive.mount('/content/drive')"
      ],
      "metadata": {
        "colab": {
          "base_uri": "https://localhost:8080/"
        },
        "id": "EH0H1evY4FWT",
        "outputId": "6e976d0c-6d04-4c19-af9c-b6e3c2c9e7d9"
      },
      "execution_count": null,
      "outputs": [
        {
          "output_type": "stream",
          "name": "stdout",
          "text": [
            "Mounted at /content/drive\n"
          ]
        }
      ]
    },
    {
      "cell_type": "code",
      "source": [
        "print('how does this work')"
      ],
      "metadata": {
        "id": "s_O095D742_j",
        "colab": {
          "base_uri": "https://localhost:8080/"
        },
        "outputId": "8654ab82-f35a-47b6-f3e1-949fdf5e0034"
      },
      "execution_count": null,
      "outputs": [
        {
          "output_type": "stream",
          "name": "stdout",
          "text": [
            "how does this work\n"
          ]
        }
      ]
    },
    {
      "cell_type": "code",
      "source": [
        "print('just loaded from github, can i edit and save back to github?')"
      ],
      "metadata": {
        "id": "sGkbka9jApUQ",
        "colab": {
          "base_uri": "https://localhost:8080/"
        },
        "outputId": "906339cf-2751-453a-a276-0dc2aaa128c9"
      },
      "execution_count": null,
      "outputs": [
        {
          "output_type": "stream",
          "name": "stdout",
          "text": [
            "just loaded from github, can i edit and save back to github?\n"
          ]
        }
      ]
    },
    {
      "cell_type": "code",
      "source": [
        "print('i just pulled this from github')"
      ],
      "metadata": {
        "id": "wSyXgjRVBnxX",
        "colab": {
          "base_uri": "https://localhost:8080/"
        },
        "outputId": "b7ea040b-4e49-4135-fcdc-47e4e9394a20"
      },
      "execution_count": 1,
      "outputs": [
        {
          "output_type": "stream",
          "name": "stdout",
          "text": [
            "i just pulled this from github\n"
          ]
        }
      ]
    },
    {
      "cell_type": "code",
      "source": [
        "print('so slow')"
      ],
      "metadata": {
        "colab": {
          "base_uri": "https://localhost:8080/"
        },
        "id": "dBOjCbQCESlO",
        "outputId": "9f3f5e6a-db98-45e4-b887-003ae517bafd"
      },
      "execution_count": 2,
      "outputs": [
        {
          "output_type": "stream",
          "name": "stdout",
          "text": [
            "so slow\n"
          ]
        }
      ]
    },
    {
      "cell_type": "code",
      "source": [
        "print('ok better')"
      ],
      "metadata": {
        "colab": {
          "base_uri": "https://localhost:8080/"
        },
        "id": "O1beUIJ0EVQc",
        "outputId": "6f03ee40-6b2f-4008-bfe6-eeecd2714a33"
      },
      "execution_count": 3,
      "outputs": [
        {
          "output_type": "stream",
          "name": "stdout",
          "text": [
            "ok better\n"
          ]
        }
      ]
    },
    {
      "cell_type": "code",
      "source": [
        ""
      ],
      "metadata": {
        "id": "YCJtRNwiEWZR"
      },
      "execution_count": null,
      "outputs": []
    }
  ]
}