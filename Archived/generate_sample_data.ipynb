{
 "cells": [
  {
   "cell_type": "markdown",
   "metadata": {},
   "source": [
    "# Create sample data\n",
    "Master file for generating sample data for *E. coli* and *M. tuberculosis*.\n",
    "\n",
    "## Import packages"
   ]
  },
  {
   "cell_type": "code",
   "execution_count": 1,
   "metadata": {},
   "outputs": [],
   "source": [
    "import pickle\n",
    "import pandas as pd\n",
    "import openpyxl"
   ]
  },
  {
   "cell_type": "markdown",
   "metadata": {},
   "source": [
    "## Format data for *E. coli*"
   ]
  },
  {
   "cell_type": "code",
   "execution_count": 7,
   "metadata": {},
   "outputs": [],
   "source": [
    "# Define filepath\n",
    "file_path = './ecoli_sample_data.xlsx'\n",
    "\n",
    "# Define key \n",
    "df = pd.read_excel(file_path, sheet_name='key', engine='openpyxl')\n",
    "key = dict(zip(df['Label'].tolist(), df['Code'].tolist()))\n",
    "\n",
    "# Define interactions \n",
    "df = pd.read_excel(file_path, sheet_name='interactions', engine='openpyxl')\n",
    "scores = df['Score'].tolist()\n",
    "train_ixns, train_scores, test_ixns, test_scores = [], [], [], []\n",
    "for ix, row in df[[col for col in df.columns if 'Drug' in col]].iterrows(): \n",
    "    if df['Subset'][ix] == 'train': \n",
    "        train_ixns.append(row[~pd.isna(row)].tolist())\n",
    "        train_scores.append(scores[ix])\n",
    "    elif df['Subset'][ix] == 'test': \n",
    "        test_ixns.append(row[~pd.isna(row)].tolist())\n",
    "        test_scores.append(scores[ix])\n",
    "train = {'interactions': train_ixns, 'scores': train_scores}\n",
    "test = {'interactions': test_ixns, 'scores': test_scores}\n",
    "\n",
    "# Define profiles\n",
    "df = pd.read_excel(file_path, sheet_name='profiles', engine='openpyxl')\n",
    "feature_names = df['Gene'].tolist()\n",
    "profiles = df.loc[:, ~df.columns.isin(['index', 'Gene'])].to_dict('list')\n",
    "\n",
    "# Define dictionary output\n",
    "ecoli_data = {\n",
    "    'key': key, \n",
    "    'profiles': profiles, \n",
    "    'feature_names': feature_names, \n",
    "    'train': train, \n",
    "    'test': test\n",
    "}"
   ]
  },
  {
   "cell_type": "markdown",
   "metadata": {},
   "source": [
    "## Format data for *M. tuberculosis*"
   ]
  },
  {
   "cell_type": "code",
   "execution_count": 8,
   "metadata": {},
   "outputs": [],
   "source": [
    "# Define filepath\n",
    "file_path = './mtb_sample_data.xlsx'\n",
    "\n",
    "# Define key \n",
    "df = pd.read_excel(file_path, sheet_name='key', engine='openpyxl')\n",
    "key = dict(zip(df['Label'].tolist(), df['Code'].tolist()))\n",
    "\n",
    "# Define interactions \n",
    "df = pd.read_excel(file_path, sheet_name='interactions', engine='openpyxl')\n",
    "scores = df['Score'].tolist()\n",
    "train_ixns, train_scores, test_ixns, test_scores, cli_ixns, cli_scores = [], [], [], [], [], []\n",
    "for ix, row in df[[col for col in df.columns if 'Drug' in col]].iterrows(): \n",
    "    if df['Subset'][ix] == 'train': \n",
    "        train_ixns.append(row[~pd.isna(row)].tolist())\n",
    "        train_scores.append(scores[ix])\n",
    "    elif df['Subset'][ix] == 'test': \n",
    "        test_ixns.append(row[~pd.isna(row)].tolist())\n",
    "        test_scores.append(scores[ix])\n",
    "    elif df['Subset'][ix] == 'clinical': \n",
    "        cli_ixns.append(row[~pd.isna(row)].tolist())\n",
    "        cli_scores.append(scores[ix])\n",
    "train = {'interactions': train_ixns, 'scores': train_scores}\n",
    "test = {'interactions': test_ixns, 'scores': test_scores}\n",
    "clinical = {'interactions': cli_ixns, 'scores': cli_scores}\n",
    "\n",
    "# Define profiles\n",
    "df = pd.read_excel(file_path, sheet_name='profiles', engine='openpyxl')\n",
    "feature_names = df['Gene'].tolist()\n",
    "profiles = df.loc[:, ~df.columns.isin(['index', 'Gene'])].to_dict('list')\n",
    "\n",
    "# Define dictionary output\n",
    "mtb_data = {\n",
    "    'key': key, \n",
    "    'profiles': profiles, \n",
    "    'feature_names': feature_names, \n",
    "    'train': train, \n",
    "    'test': test, \n",
    "    'clinical': clinical\n",
    "}"
   ]
  },
  {
   "cell_type": "markdown",
   "metadata": {},
   "source": [
    "## Save data and test saved object"
   ]
  },
  {
   "cell_type": "code",
   "execution_count": 9,
   "metadata": {},
   "outputs": [],
   "source": [
    "# Save outputs\n",
    "with open('./../indigopy/sample_data.pkl', 'wb') as f: \n",
    "    pickle.dump([ecoli_data, mtb_data], f)"
   ]
  },
  {
   "cell_type": "code",
   "execution_count": 10,
   "metadata": {},
   "outputs": [],
   "source": [
    "# Test saved object\n",
    "with open('./../indigopy/sample_data.pkl', 'rb') as f: \n",
    "    data1, data2 = pickle.load(f)\n",
    "assert ecoli_data['train']['interactions'][0] == data1['train']['interactions'][0]\n",
    "assert mtb_data['clinical']['interactions'][0] == data2['clinical']['interactions'][0]"
   ]
  }
 ],
 "metadata": {
  "interpreter": {
   "hash": "0ac2a46207b2ff734e5406bb8bd0909b0a981f84a860af7db5bce33c6bd25d0b"
  },
  "kernelspec": {
   "display_name": "Python 3.8.5 64-bit",
   "language": "python",
   "name": "python3"
  },
  "language_info": {
   "codemirror_mode": {
    "name": "ipython",
    "version": 3
   },
   "file_extension": ".py",
   "mimetype": "text/x-python",
   "name": "python",
   "nbconvert_exporter": "python",
   "pygments_lexer": "ipython3",
   "version": "3.8.5"
  },
  "orig_nbformat": 4
 },
 "nbformat": 4,
 "nbformat_minor": 2
}
